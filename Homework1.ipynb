{
  "nbformat": 4,
  "nbformat_minor": 0,
  "metadata": {
    "colab": {
      "name": "Homework1.ipynb",
      "provenance": [],
      "collapsed_sections": [],
      "include_colab_link": true
    },
    "kernelspec": {
      "name": "python3",
      "display_name": "Python 3"
    },
    "language_info": {
      "name": "python"
    }
  },
  "cells": [
    {
      "cell_type": "markdown",
      "metadata": {
        "id": "view-in-github",
        "colab_type": "text"
      },
      "source": [
        "<a href=\"https://colab.research.google.com/github/printInam/DataScience/blob/main/Homework1.ipynb\" target=\"_parent\"><img src=\"https://colab.research.google.com/assets/colab-badge.svg\" alt=\"Open In Colab\"/></a>"
      ]
    },
    {
      "cell_type": "code",
      "execution_count": 17,
      "metadata": {
        "colab": {
          "base_uri": "https://localhost:8080/"
        },
        "id": "jrVeHsm1rpdT",
        "outputId": "bc24d99a-58f3-4e26-830e-72cc6b3ee840"
      },
      "outputs": [
        {
          "output_type": "stream",
          "name": "stdout",
          "text": [
            "What is your name? Inam\n",
            "What is your age? 22\n",
            "your name is Inam and your age is 22\n"
          ]
        }
      ],
      "source": [
        "#Q1-Get your name and age as input and print it in the form like\n",
        "#Your name is Hulisi. Your age is 43\n",
        "name=input('What is your name? ')\n",
        "age=input('What is your age? ')\n",
        "print('your name is ' + name + ' and your age is ' + age)"
      ]
    },
    {
      "cell_type": "code",
      "source": [
        "#Q2-Write a if statement for a given two number is equal or not\n",
        "a=43\n",
        "b=54\n",
        "\n",
        "if(a == b):\n",
        "  print ( \"these numbers are equal\")\n",
        "elif (a!=b):\n",
        "  print ( ' these are not equal numbers')\n",
        "\n"
      ],
      "metadata": {
        "id": "7Sfg03_PuVWa",
        "outputId": "84cbc59c-4b4b-4179-f8c3-edb792f2a20c",
        "colab": {
          "base_uri": "https://localhost:8080/"
        }
      },
      "execution_count": 22,
      "outputs": [
        {
          "output_type": "stream",
          "name": "stdout",
          "text": [
            " these are not equal numbers\n"
          ]
        }
      ]
    },
    {
      "cell_type": "code",
      "source": [
        "#Q3-Write a if statement for first number is greater (a), equal or less than second number.(b)\n",
        "a=43\n",
        "b=54\n",
        "\n",
        "if( a > b):\n",
        "  print( 'A is greater than b')\n",
        "elif ( a < b):\n",
        "  print( ' A is less than b')\n",
        "elif (a==b):\n",
        "  print('A is equal to b')\n"
      ],
      "metadata": {
        "id": "NtUibZ07u5gs",
        "outputId": "f6cb3f5c-ab7f-4455-909c-a3f7a57145b1",
        "colab": {
          "base_uri": "https://localhost:8080/"
        }
      },
      "execution_count": 21,
      "outputs": [
        {
          "output_type": "stream",
          "name": "stdout",
          "text": [
            " A is less than b\n"
          ]
        }
      ]
    },
    {
      "cell_type": "code",
      "source": [
        "#Q4- Using for loop, print 1,2,3,4,5\n",
        "for k in range(6):\n",
        "  print (k)\n"
      ],
      "metadata": {
        "id": "U1UMQv36wNHP",
        "outputId": "09986797-6db1-45df-c2fd-da852794accd",
        "colab": {
          "base_uri": "https://localhost:8080/"
        }
      },
      "execution_count": 23,
      "outputs": [
        {
          "output_type": "stream",
          "name": "stdout",
          "text": [
            "0\n",
            "1\n",
            "2\n",
            "3\n",
            "4\n",
            "5\n"
          ]
        }
      ]
    },
    {
      "cell_type": "code",
      "source": [
        "\n",
        "#Q5-Using while loop, print 5,4,3,2,1\n",
        "for k in range(5,0,-1):\n",
        " print(k)"
      ],
      "metadata": {
        "id": "bh5Lga7XxGY8",
        "outputId": "5696dc89-50d9-4365-885d-566426af7f7d",
        "colab": {
          "base_uri": "https://localhost:8080/"
        }
      },
      "execution_count": 4,
      "outputs": [
        {
          "output_type": "stream",
          "name": "stdout",
          "text": [
            "5\n",
            "4\n",
            "3\n",
            "2\n",
            "1\n"
          ]
        }
      ]
    },
    {
      "cell_type": "code",
      "source": [
        "#Q6- Using for loop, print 10,6,4,2,0\n",
        "#Hint Print if number is not equal to 8.\n",
        "\n",
        "for k in range(10,-1,-2):\n",
        " if(k!=8):\n",
        "  print(k)\n"
      ],
      "metadata": {
        "id": "cXTTDS49xSoi",
        "outputId": "569900b5-6e98-4a82-ca40-01a8e9436051",
        "colab": {
          "base_uri": "https://localhost:8080/"
        }
      },
      "execution_count": 12,
      "outputs": [
        {
          "output_type": "stream",
          "name": "stdout",
          "text": [
            "10\n",
            "6\n",
            "4\n",
            "2\n",
            "0\n"
          ]
        }
      ]
    },
    {
      "cell_type": "code",
      "source": [
        "#Q7-Write a method to calculate age for a given date of birth year.\n",
        "#Use this method on orer to calculate age of person if date of birth is 1944\n",
        "# if age is the name of function, print(age(1944))\n",
        "def addition( x,y):\n",
        "  return (x-y)\n",
        "addition (2022,1944)\n",
        "\n"
      ],
      "metadata": {
        "id": "geUjb-vuyYbF",
        "outputId": "518c9e2c-7e26-4802-e609-856ce1f50a56",
        "colab": {
          "base_uri": "https://localhost:8080/"
        }
      },
      "execution_count": 14,
      "outputs": [
        {
          "output_type": "execute_result",
          "data": {
            "text/plain": [
              "78"
            ]
          },
          "metadata": {},
          "execution_count": 14
        }
      ]
    },
    {
      "cell_type": "code",
      "source": [
        "#Q8-Write a class named arithmetic with method for calculating addition, substraction, multiplication and division of two numbers.\n",
        "class arithmetic:\n",
        "  def addition(x,y):\n",
        "    return x+y\n",
        "  def substraction(x,y):\n",
        "    return x-y\n",
        "  def multiplication(x,y):\n",
        "    return x*y\n",
        "  def division(x,y):\n",
        "    return x/y\n",
        "\n",
        "print(arithmetic.addition(3,4))\n",
        "print(arithmetic.substraction(3,4))\n",
        "print(arithmetic.multiplication(3,4))\n",
        "print(arithmetic.division(3,4))"
      ],
      "metadata": {
        "id": "YcyFzE3fzC7_",
        "outputId": "9f405270-a920-40fe-9ccc-03c08e5a5124",
        "colab": {
          "base_uri": "https://localhost:8080/"
        }
      },
      "execution_count": 19,
      "outputs": [
        {
          "output_type": "stream",
          "name": "stdout",
          "text": [
            "7\n",
            "-1\n",
            "12\n",
            "0.75\n"
          ]
        }
      ]
    },
    {
      "cell_type": "code",
      "source": [
        "#Q9- write a for loop or method  to calculate summation of first n numbers\n",
        "#i.e if n=3, it will print or return 6 (1+2+3)"
      ],
      "metadata": {
        "id": "AUJWr5YqzadI"
      },
      "execution_count": null,
      "outputs": []
    },
    {
      "cell_type": "code",
      "source": [
        "#Q10-Generate 10 numbers between 0 and 1 and add into list. Print first three elements of that list. "
      ],
      "metadata": {
        "id": "hmtvJdCL02qx"
      },
      "execution_count": null,
      "outputs": []
    },
    {
      "cell_type": "code",
      "source": [
        "#Q11-For a given number n, print numbers divisible by 3 up to that number(n included)\n",
        "#Example: if n=15, print 3,6,9,12,15\n",
        "#Hint you can use modulus statement (if (i%3==0))\n",
        "n=15\n"
      ],
      "metadata": {
        "id": "5O6Y2CujcAAs",
        "outputId": "451a2eb6-71cf-4169-c22f-460c2b67a6a1",
        "colab": {
          "base_uri": "https://localhost:8080/"
        }
      },
      "execution_count": null,
      "outputs": [
        {
          "output_type": "stream",
          "name": "stdout",
          "text": [
            "3\n",
            "6\n",
            "9\n",
            "12\n",
            "15\n"
          ]
        }
      ]
    }
  ]
}